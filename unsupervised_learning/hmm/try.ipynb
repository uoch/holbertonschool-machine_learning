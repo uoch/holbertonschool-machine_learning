{
 "cells": [
  {
   "cell_type": "code",
   "execution_count": 24,
   "metadata": {},
   "outputs": [],
   "source": [
    "import numpy as np\n",
    "d = np.array([[1, 0, 0, 0],\n",
    "                  [0, 1, 0, 0],\n",
    "                  [0, 0, 0.5, 0.5],\n",
    "                  [0, 0.5, 0.5, 0]])"
   ]
  },
  {
   "cell_type": "code",
   "execution_count": 25,
   "metadata": {},
   "outputs": [
    {
     "name": "stdout",
     "output_type": "stream",
     "text": [
      "[1.  1.  0.5 0. ]\n"
     ]
    }
   ],
   "source": [
    "diag = np.diag(d)\n",
    "num_states = d.shape[0]\n",
    "\n",
    "print(diag)"
   ]
  },
  {
   "cell_type": "code",
   "execution_count": 31,
   "metadata": {},
   "outputs": [
    {
     "name": "stdout",
     "output_type": "stream",
     "text": [
      "[0 1]\n",
      "[0, 1]\n",
      "[0, 1]\n"
     ]
    }
   ],
   "source": [
    "absorb_states = np.where(diag == 1)[0]  # Indices of absorbing states\n",
    "print(absorb_states)\n",
    "print(absorb_states.tolist())  \n",
    "x= absorb_states.tolist()[:] \n",
    "print(x)"
   ]
  },
  {
   "cell_type": "code",
   "execution_count": 27,
   "metadata": {},
   "outputs": [
    {
     "name": "stdout",
     "output_type": "stream",
     "text": [
      "{0, 1}\n",
      "{0, 1}\n"
     ]
    }
   ],
   "source": [
    "reachable_states = set(absorb_states)\n",
    "print(reachable_states)\n",
    "new_reachable_states = set(absorb_states)\n",
    "print(new_reachable_states)"
   ]
  },
  {
   "cell_type": "code",
   "execution_count": 28,
   "metadata": {},
   "outputs": [
    {
     "name": "stdout",
     "output_type": "stream",
     "text": [
      "True\n"
     ]
    }
   ],
   "source": [
    "while new_reachable_states:\n",
    "        current_states = new_reachable_states.copy()\n",
    "        new_reachable_states = set()\n",
    "        \n",
    "        for state in current_states:\n",
    "            related_states = np.where(d[:, state] > 0)[0]  # Find states with nonzero transition to 'state'\n",
    "            new_reachable_states.update(related_states)\n",
    "        \n",
    "        new_reachable_states.difference_update(reachable_states)  # Remove already reached states\n",
    "        reachable_states.update(new_reachable_states)  # Add newly reached states\n",
    "\n",
    "print(len(reachable_states)==num_states)"
   ]
  },
  {
   "cell_type": "code",
   "execution_count": null,
   "metadata": {},
   "outputs": [],
   "source": [
    "#!/usr/bin/env python3\n",
    "\"\"\"markov hidden model\"\"\"\n",
    "import numpy as np\n",
    "\n",
    "\n",
    "import numpy as np\n",
    "\n",
    "\n",
    "def absorbing(P):\n",
    "    \"\"\"Determines if the given matrix represents an absorbing Markov chain\"\"\"\n",
    "    if not isinstance(P, np.ndarray) or P.ndim != 2 or P.shape[0] != P.shape[1]:\n",
    "        return False  # Not a square matrix\n",
    "    \n",
    "    diag = np.diagonal(P)\n",
    "    num_states = P.shape[0]\n",
    "    \n",
    "    if not np.any(diag == 1):  # No absorbing states\n",
    "        return False\n",
    "    \n",
    "    absorbing_states = np.where(diag == 1)[0]  # Indices of absorbing states\n",
    "    \n",
    "    # Initialize a set to track states that can reach absorbing states\n",
    "    reachable_states = set(absorbing_states)\n",
    "    new_reachable_states = set(absorbing_states)\n",
    "    \n",
    "    # Iterate until no new states are added to the reachable set\n",
    "    while new_reachable_states:\n",
    "        current_states = new_reachable_states.copy()\n",
    "        new_reachable_states = set()\n",
    "        \n",
    "        for state in current_states:\n",
    "            related_states = np.where(P[:, state] > 0)[0]  # Find states with nonzero transition to 'state'\n",
    "            new_reachable_states.update(related_states)\n",
    "        \n",
    "        new_reachable_states.difference_update(reachable_states)  # Remove already reached states\n",
    "        reachable_states.update(new_reachable_states)\n",
    "    \n",
    "    return len(reachable_states) == num_states\n",
    "\n",
    "    \n"
   ]
  }
 ],
 "metadata": {
  "kernelspec": {
   "display_name": "Python 3",
   "language": "python",
   "name": "python3"
  },
  "language_info": {
   "codemirror_mode": {
    "name": "ipython",
    "version": 3
   },
   "file_extension": ".py",
   "mimetype": "text/x-python",
   "name": "python",
   "nbconvert_exporter": "python",
   "pygments_lexer": "ipython3",
   "version": "3.10.12"
  }
 },
 "nbformat": 4,
 "nbformat_minor": 2
}
