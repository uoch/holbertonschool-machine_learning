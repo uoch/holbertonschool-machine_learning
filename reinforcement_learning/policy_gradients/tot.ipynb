{
 "cells": [
  {
   "cell_type": "code",
   "execution_count": 1,
   "metadata": {},
   "outputs": [],
   "source": [
    "import numpy as np\n",
    "\n",
    "\n",
    "def softmax(logits):\n",
    "    \"\"\"softmax function\"\"\"\n",
    "    return np.exp(logits) / np.sum(np.exp(logits), keepdims=True)\n",
    "def softmax_grad(s):\n",
    "    jacobian_m = np.diag(s)\n",
    "    for i in range(len(jacobian_m)):\n",
    "        for j in range(len(jacobian_m)):\n",
    "            if i == j:\n",
    "                jacobian_m[i][j] = s[i] * (1-s[i])\n",
    "            else:\n",
    "                jacobian_m[i][j] = -s[i] * s[j]\n",
    "    return jacobian_m\n",
    "def policy(state, weight):\n",
    "    \"\"\"simple policy function\"\"\"\n",
    "    # flatten the state with the weight\n",
    "    logits = np.dot(state, weight)\n",
    "    action_probs = softmax(logits)\n",
    "    return action_probs\n",
    "\n",
    "def policy_gradient(state, weight):\n",
    "    \"\"\"Compute policy gradient\"\"\"\n",
    "    # Compute action probabilities using the policy\n",
    "    action_probs = policy(state, weight)\n",
    "    action = np.random.choice(len(action_probs), p=action_probs)\n",
    "\n",
    "    grad_logits_wrt_weights = np.outer(state, softmax_grad(action_probs)[action])\n",
    "\n",
    "    return action, grad_logits_wrt_weights\n"
   ]
  },
  {
   "cell_type": "code",
   "execution_count": 2,
   "metadata": {},
   "outputs": [],
   "source": [
    "def xavier_init(shape):\n",
    "    \"\"\"Xavier initialization for weights\"\"\"\n",
    "    fan_in = shape[0]\n",
    "    fan_out = shape[1]\n",
    "    stddev = np.sqrt(2.0 / (fan_in + fan_out))\n",
    "    return np.random.normal(0, stddev, shape)\n",
    "def he_init(shape):\n",
    "    \"\"\"He initialization for weights\"\"\"\n",
    "    fan_in = shape[0]\n",
    "    stddev = np.sqrt(2.0 / fan_in)\n",
    "    return np.random.normal(0, stddev, shape)"
   ]
  },
  {
   "cell_type": "code",
   "execution_count": 11,
   "metadata": {},
   "outputs": [],
   "source": [
    "import tqdm\n",
    "import imageio\n",
    "import IPython.display as display\n",
    "import time\n",
    "def train(env, nb_episodes, alpha=0.000045, gamma=0.98 , show_result = False):\n",
    "    \"\"\"training function\"\"\"\n",
    "    # initialize the weight\n",
    "    weight = he_init((env.observation_space.shape[0], env.action_space.n))\n",
    "\n",
    "    scores = []\n",
    "    for ep in tqdm.tqdm(range(nb_episodes)):\n",
    "        state, _ = env.reset()\n",
    "        episode = []\n",
    "        grads = []\n",
    "        episode_score = 0\n",
    "        while True:\n",
    "            action, grad = policy_gradient(state, weight)\n",
    "            next_state, reward, done, _, _ = env.step(action)\n",
    "            episode.append((state, action, reward))\n",
    "            grads.append(grad)\n",
    "            episode_score += reward\n",
    "\n",
    "            state = next_state\n",
    "            if done:\n",
    "                break\n",
    "        if show_result and (ep+1) % 1000 == 0:\n",
    "            env.render()\n",
    "            st ,_= env.reset()\n",
    "            img = env.render()\n",
    "            imgs = []\n",
    "            while True:\n",
    "                action, _ = policy_gradient(st, weight)\n",
    "                state, reward, done, _, _ = env.step(action)\n",
    "                img = env.render()\n",
    "                imgs.append(img)\n",
    "                if done:\n",
    "                    break\n",
    "            gif_path = f'gif/cartpole{ep+1}.gif'\n",
    "            imageio.mimsave(gif_path, [np.array(img) for i, img in enumerate(imgs) ], fps=1000)\n",
    "            display.display(display.Image(filename=gif_path))\n",
    "            time.sleep(1.5)  # Display the GIF for 2 seconds\n",
    "            display.clear_output(wait=True)  # Clear the output after displaying the GIF\n",
    "            env.close()\n",
    "        scores.append(episode_score)\n",
    "        for i in range(len(episode)):\n",
    "            Gt = sum([gamma**j * episode[j][2]\n",
    "                     for j in range(i, len(episode))])\n",
    "            step, action, _ = episode[i]\n",
    "            action_probs = policy(step, weight)\n",
    "            Ln = np.log(action_probs[action])\n",
    "            weight += alpha * gamma**i * Gt * Ln * grads[i]\n",
    "    return scores "
   ]
  },
  {
   "cell_type": "code",
   "execution_count": 13,
   "metadata": {},
   "outputs": [
    {
     "name": "stderr",
     "output_type": "stream",
     "text": [
      "100%|██████████| 10000/10000 [00:26<00:00, 381.55it/s]\n"
     ]
    },
    {
     "data": {
      "image/png": "[encoded data removed]",
      "text/plain": [
       "<Figure size 640x480 with 1 Axes>"
      ]
     },
     "metadata": {},
     "output_type": "display_data"
    }
   ],
   "source": [
    "import gym\n",
    "import matplotlib.pyplot as plt\n",
    "import numpy as np\n",
    "\n",
    "env = gym.make('CartPole-v1' , render_mode = 'rgb_array')\n",
    "scores = None\n",
    "scores  = train(env, nb_episodes=10000, show_result = True)\n",
    "\n",
    "\n",
    "plt.plot(np.arange(len(scores)), scores)\n",
    "plt.show()\n",
    "env.close()"
   ]
  },
  {
   "cell_type": "code",
   "execution_count": null,
   "metadata": {},
   "outputs": [],
   "source": [
    "import optuna\n",
    "from optuna.pruners import MedianPruner\n",
    "from optuna.samplers import TPESampler\n",
    "\n",
    "def objective(trial):\n",
    "    # Get the hyperparameters\n",
    "    alpha = trial.suggest_float('alpha', 1e-7, 1e-2)\n",
    "    gamma = trial.suggest_float('gamma', 0.7, 0.99900)\n",
    "    nb_episodes = trial.suggest_int('nb_episodes', 300, 10000)\n",
    "\n",
    "    # Train the model\n",
    "    env = gym.make('CartPole-v1')  # Create the environment\n",
    "    weight, scores = train(env, nb_episodes, alpha, gamma)\n",
    "    env.close()  # Close the environment after training\n",
    "    return np.max(scores)\n",
    "\n",
    "sampler = TPESampler()\n",
    "pruner = MedianPruner(n_warmup_steps=5)\n",
    "study = optuna.create_study(sampler=sampler, pruner=pruner)\n",
    "study.optimize(objective, n_trials=100)\n",
    "\n",
    "print(\"Best trial:\")\n",
    "best_trial = study.best_trial\n",
    "print(\"  Value: \", best_trial.value)\n",
    "print(\"  Params: \")\n",
    "for key, value in best_trial.params.items():\n",
    "    print(\"    {}: {}\".format(key, value))"
   ]
  },
  {
   "cell_type": "code",
   "execution_count": 44,
   "metadata": {},
   "outputs": [
    {
     "name": "stdout",
     "output_type": "stream",
     "text": [
      "(4, 2)\n",
      "(4,)\n",
      "32\n"
     ]
    }
   ],
   "source": [
    "import gym\n",
    "import imageio\n",
    "env = gym.make('CartPole-v1' , render_mode = \"rgb_array\")  # Create the environment\n",
    "\n",
    "# Render the environment\n",
    "st ,_= env.reset()\n",
    "action = 1\n",
    "img = env.render()\n",
    "images = []\n",
    "print(weit.shape)\n",
    "print(st.shape)\n",
    "while True:\n",
    "    action = np.argmax(policy(st, weit))\n",
    "    st, reward, done, _ ,_= env.step(action)\n",
    "    img = env.render()\n",
    "    images.append(img)\n",
    "    if done:\n",
    "        break\n",
    "imageio.mimsave('cartpole.gif', [np.array(img) for i, img in enumerate(images) ], fps=1000)\n",
    "\n",
    "\n",
    "env.close()  # Close the environment after rendering\n"
   ]
  }
 ],
 "metadata": {
  "kernelspec": {
   "display_name": "tf",
   "language": "python",
   "name": "python3"
  },
  "language_info": {
   "codemirror_mode": {
    "name": "ipython",
    "version": 3
   },
   "file_extension": ".py",
   "mimetype": "text/x-python",
   "name": "python",
   "nbconvert_exporter": "python",
   "pygments_lexer": "ipython3",
   "version": "3.10.12"
  }
 },
 "nbformat": 4,
 "nbformat_minor": 2
}
