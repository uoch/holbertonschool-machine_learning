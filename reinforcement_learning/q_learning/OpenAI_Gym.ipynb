{
  "nbformat": 4,
  "nbformat_minor": 0,
  "metadata": {
    "colab": {
      "provenance": []
    },
    "kernelspec": {
      "name": "python3",
      "display_name": "Python 3"
    },
    "language_info": {
      "name": "python"
    },
    "accelerator": "TPU"
  },
  "cells": [
    {
      "cell_type": "code",
      "execution_count": null,
      "metadata": {
        "id": "Z1gcL9e-IwDD"
      },
      "outputs": [],
      "source": [
        "!pip install --user gym"
      ]
    },
    {
      "cell_type": "code",
      "source": [
        "import numpy as np\n",
        "import gym\n",
        "import time\n",
        "import random\n",
        "from IPython.display import clear_output"
      ],
      "metadata": {
        "id": "YNHbFJh_JDf6"
      },
      "execution_count": null,
      "outputs": []
    },
    {
      "cell_type": "code",
      "source": [
        "env = gym.make(\"FrozenLake-v1\")"
      ],
      "metadata": {
        "id": "Cf421tQjJVlT"
      },
      "execution_count": null,
      "outputs": []
    },
    {
      "cell_type": "code",
      "source": [
        "action_space_size = env.action_space.n\n",
        "state_space_size = env.observation_space.n\n",
        "\n",
        "\n",
        "qtable = np.zeros((state_space_size,action_space_size))\n",
        "print(qtable)"
      ],
      "metadata": {
        "id": "etCIJYMMJty4"
      },
      "execution_count": null,
      "outputs": []
    },
    {
      "cell_type": "code",
      "source": [
        "total_episodes = 1500       # Total episodes\n",
        "learning_rate = 0.8           # Learning rate\n",
        "max_steps = 99                # Max steps per episode\n",
        "gamma = 0.95                  # Discounting rate\n",
        "\n",
        "# Exploration parameters\n",
        "epsilon = 1.0                 # Exploration rate\n",
        "max_epsilon = 1.0             # Exploration probability at start\n",
        "min_epsilon = 0.01            # Minimum exploration probability\n",
        "decay_rate = 0.005"
      ],
      "metadata": {
        "id": "H7Hd_y_AKZiF"
      },
      "execution_count": null,
      "outputs": []
    },
    {
      "cell_type": "code",
      "source": [
        "# List of rewards\n",
        "rewards = []\n",
        "\n",
        "# 2 For life or until learning is stopped\n",
        "for episode in range(total_episodes):\n",
        "    # Reset the environment\n",
        "    state = env.reset()\n",
        "    step = 0\n",
        "    done = False\n",
        "    total_rewards = 0\n",
        "\n",
        "    for step in range(max_steps):\n",
        "        # 3. Choose an action a in the current world state (s)\n",
        "        ## First we randomize a number\n",
        "        exp_exp_tradeoff = random.uniform(0, 1)\n",
        "\n",
        "        ## If this number > greater than epsilon --> exploitation (taking the biggest Q value for this state)\n",
        "        if exp_exp_tradeoff > epsilon:\n",
        "            action = np.argmax(qtable[state,:])\n",
        "\n",
        "        # Else doing a random choice --> exploration\n",
        "        else:\n",
        "            action = env.action_space.sample()\n",
        "\n",
        "        # Take the action (a) and observe the outcome state(s') and reward (r)\n",
        "        new_state, reward, done, info = env.step(action)\n",
        "\n",
        "        # Update Q(s,a):= Q(s,a) + lr [R(s,a) + gamma * max Q(s',a') - Q(s,a)]\n",
        "        # qtable[new_state,:] : all the actions we can take from new state\n",
        "        qtable[state, action] = qtable[state, action] + learning_rate * (reward + gamma * np.max(qtable[new_state, :]) - qtable[state, action])\n",
        "\n",
        "        total_rewards += reward\n",
        "\n",
        "        # Our new state is state\n",
        "        state = new_state\n",
        "\n",
        "        # If done (if we're dead) : finish episode\n",
        "        if done == True:\n",
        "            break\n",
        "\n",
        "    # Reduce epsilon (because we need less and less exploration)\n",
        "    epsilon = min_epsilon + (max_epsilon - min_epsilon)*np.exp(-decay_rate*episode)\n",
        "    rewards.append(total_rewards)\n",
        "split_rewards = np.split(np.array(rewards), 10)\n",
        "for i, rewards in enumerate(split_rewards):\n",
        "    print((i+1) * 500, ':', np.mean(rewards))\n",
        "print(qtable)"
      ],
      "metadata": {
        "id": "hR_dBZV6Nf9l"
      },
      "execution_count": null,
      "outputs": []
    },
    {
      "cell_type": "code",
      "source": [
        "env.reset()\n",
        "\n",
        "for episode in range(5):\n",
        "    state = env.reset()\n",
        "    step = 0\n",
        "    done = False\n",
        "    print(\"****************************************************\")\n",
        "    print(\"EPISODE \", episode)\n",
        "\n",
        "    for step in range(max_steps):\n",
        "\n",
        "        # Take the action (index) that have the maximum expected future reward given that state\n",
        "        action = np.argmax(qtable[state,:])\n",
        "\n",
        "        new_state, reward, done, info = env.step(action)\n",
        "\n",
        "        if done:\n",
        "            # Here, we decide to only print the last state (to see if our agent is on the goal or fall into an hole)\n",
        "            env.render()\n",
        "\n",
        "            # We print the number of step it took.\n",
        "            print(\"Number of steps\", step)\n",
        "            break\n",
        "        state = new_state\n",
        "env.close()"
      ],
      "metadata": {
        "id": "K-Ukhbgo1QlI"
      },
      "execution_count": null,
      "outputs": []
    },
    {
      "cell_type": "code",
      "source": [
        "#!/usr/bin/env python3\n",
        "\n",
        "load_frozen_lake = __import__('0-load_env').load_frozen_lake\n",
        "import numpy as np\n",
        "\n",
        "np.random.seed(0)\n",
        "env = load_frozen_lake()\n",
        "print(env.desc)\n",
        "print(env.P[0][0])\n",
        "env = load_frozen_lake(is_slippery=True)\n",
        "print(env.desc)\n",
        "print(env.P[0][0])\n",
        "desc = [['S', 'F', 'F'], ['F', 'H', 'H'], ['F', 'F', 'G']]\n",
        "env = load_frozen_lake(desc=desc)\n",
        "print(env.desc)\n",
        "env = load_frozen_lake(map_name='4x4')\n",
        "print(env.desc)"
      ],
      "metadata": {
        "id": "cngxVeWL1ikv"
      },
      "execution_count": null,
      "outputs": []
    },
    {
      "cell_type": "code",
      "source": [
        "#!/usr/bin/env python3\n",
        "\n",
        "load_frozen_lake = __import__('0-load_env').load_frozen_lake\n",
        "q_init = __import__('1-q_init').q_init\n",
        "\n",
        "env = load_frozen_lake()\n",
        "Q = q_init(env)\n",
        "print(Q.shape)\n",
        "env = load_frozen_lake(is_slippery=True)\n",
        "Q = q_init(env)\n",
        "print(Q.shape)\n",
        "desc = [['S', 'F', 'F'], ['F', 'H', 'H'], ['F', 'F', 'G']]\n",
        "env = load_frozen_lake(desc=desc)\n",
        "Q = q_init(env)\n",
        "print(Q.shape)\n",
        "env = load_frozen_lake(map_name='4x4')\n",
        "Q = q_init(env)\n",
        "print(Q.shape)"
      ],
      "metadata": {
        "id": "RS06OmB44Fuc"
      },
      "execution_count": null,
      "outputs": []
    },
    {
      "cell_type": "code",
      "source": [
        "from google.colab import files\n",
        "\n",
        "files.upload()"
      ],
      "metadata": {
        "id": "7z6tMWE27mDe"
      },
      "execution_count": null,
      "outputs": []
    },
    {
      "cell_type": "code",
      "source": [
        "#!/usr/bin/env python3\n",
        "\n",
        "load_frozen_lake = __import__('0-load_env').load_frozen_lake\n",
        "q_init = __import__('1-q_init').q_init\n",
        "epsilon_greedy = __import__('2-epsilon_greedy').epsilon_greedy\n",
        "import numpy as np\n",
        "\n",
        "desc = [['S', 'F', 'F'], ['F', 'H', 'H'], ['F', 'F', 'G']]\n",
        "env = load_frozen_lake(desc=desc)\n",
        "Q = q_init(env)\n",
        "Q[7] = np.array([0.5, 0.7, 1, -1])\n",
        "np.random.seed(0)\n",
        "print(epsilon_greedy(Q, 7, 0.5))\n",
        "np.random.seed(1)\n",
        "print(epsilon_greedy(Q, 7, 0.5))"
      ],
      "metadata": {
        "id": "DjpZWlc46PDH"
      },
      "execution_count": null,
      "outputs": []
    },
    {
      "cell_type": "markdown",
      "source": [],
      "metadata": {
        "id": "M7CEexcjSEj-"
      }
    },
    {
      "cell_type": "code",
      "source": [
        "#!/usr/bin/env python3\n",
        "\n",
        "load_frozen_lake = __import__('0-load_env').load_frozen_lake\n",
        "q_init = __import__('1-q_init').q_init\n",
        "train = __import__('3-q_learning').train\n",
        "import numpy as np\n",
        "\n",
        "np.random.seed(0)\n",
        "desc = [['S', 'F', 'F'], ['F', 'H', 'H'], ['F', 'F', 'G']]\n",
        "env = load_frozen_lake(desc=desc)\n",
        "Q = q_init(env)\n",
        "\n",
        "Q, total_rewards  = train(env, Q)\n",
        "print(Q)\n",
        "split_rewards = np.split(np.array(total_rewards), 10)\n",
        "for i, rewards in enumerate(split_rewards):\n",
        "    print((i+1) * 500, ':', np.mean(rewards))"
      ],
      "metadata": {
        "id": "qK6Zs7TfBSd4"
      },
      "execution_count": null,
      "outputs": []
    },
    {
      "cell_type": "code",
      "source": [
        "def bellman_equation(Q, state, action, reward, next_state, alpha, gamma):\n",
        "    \"\"\"performs the Bellman equation\"\"\"\n",
        "    Q[state, action] = (Q[state, action] * (1 - alpha) +\n",
        "                        (reward + gamma * np.max(Q[next_state, :])) * alpha)\n",
        "    return Q\n",
        "\n",
        "\n",
        "def train(env, Q,\n",
        "          episodes=5000,\n",
        "          max_steps=100,\n",
        "          alpha=0.1, gamma=0.99,\n",
        "          epsilon=1,\n",
        "          min_epsilon=0.1,\n",
        "          epsilon_decay=0.05):\n",
        "    \"\"\"teach agent how to play FrozenLake\"\"\"\n",
        "    rewards = []\n",
        "    for ep in range(episodes):\n",
        "        state = env.reset()\n",
        "        done = False\n",
        "        total_rewards = 0\n",
        "        for _ in range(max_steps):\n",
        "            action = epsilon_greedy(Q, state, epsilon)\n",
        "            new_state, reward, done, info = env.step(action)\n",
        "            if done and reward == 0:\n",
        "                reward = -1\n",
        "            Q = bellman_equation(Q, state, action, reward,\n",
        "                                 new_state, alpha, gamma)\n",
        "            total_rewards += reward\n",
        "            state = new_state\n",
        "            if done:\n",
        "                break\n",
        "\n",
        "        epsilon = (min_epsilon + (epsilon - min_epsilon) *\n",
        "                   np.exp(-epsilon_decay * ep))\n",
        "        rewards.append(total_rewards)\n",
        "    return Q, rewards"
      ],
      "metadata": {
        "id": "1W5WtsANU2k2"
      },
      "execution_count": null,
      "outputs": []
    },
    {
      "cell_type": "code",
      "source": [
        "from google.colab.patches import cv2_imshow\n",
        "\n",
        "def play(env, Q, max_steps=100):\n",
        "    state = (env.reset(),)\n",
        "    total_reward = 0\n",
        "    for _ in range(max_steps):\n",
        "        frame = env.render(mode='rgb_array')  # Render the environment state as RGB image\n",
        "        cv2_imshow(frame)  # Display the RGB frame using Google Colab's cv2_imshow\n",
        "        # cv2.imshow('Environment State', frame)  # Alternative for local execution\n",
        "        # cv2.waitKey(100)\n",
        "        # print(env.render(mode=\"rgb_array\"))  # Render the environment state\n",
        "        action = np.argmax(Q[state])\n",
        "        state, reward, done, _ = env.step(action)\n",
        "        total_reward += reward\n",
        "        if done:\n",
        "            frame = env.render(mode='rgb_array')  # Render the final environment state\n",
        "            cv2_imshow(frame)  # Display the final state\n",
        "            # print(env.render(mode=\"rgb_array\"))  # Alternative for local execution\n",
        "            break\n",
        "    # cv2.destroyAllWindows()  # Not needed for Google Colab\n",
        "    return total_reward\n"
      ],
      "metadata": {
        "id": "IWGjn_i8PlZk"
      },
      "execution_count": null,
      "outputs": []
    },
    {
      "cell_type": "code",
      "source": [
        "#!/usr/bin/env python3\n",
        "\n",
        "load_frozen_lake = __import__('0-load_env').load_frozen_lake\n",
        "q_init = __import__('1-q_init').q_init\n",
        "\n",
        "\n",
        "import numpy as np\n",
        "\n",
        "np.random.seed(0)\n",
        "desc = [['S', 'F', 'F'], ['F', 'H', 'H'], ['F', 'F', 'G']]\n",
        "env = load_frozen_lake(desc=desc)\n",
        "Q = q_init(env)\n",
        "\n",
        "Q, total_rewards  = train(env, Q)\n",
        "print(play(env, Q))"
      ],
      "metadata": {
        "colab": {
          "base_uri": "https://localhost:8080/",
          "height": 994
        },
        "id": "hmONvSElMXFY",
        "outputId": "340e45b2-be17-4c71-da84-f9a23df33ffa"
      },
      "execution_count": 16,
      "outputs": [
        {
          "output_type": "display_data",
          "data": {
            "text/plain": [
              "<PIL.Image.Image image mode=RGB size=192x192>"
            ],
            "image/png": "[encoded data removed]"
          },
          "metadata": {}
        },
        {
          "output_type": "display_data",
          "data": {
            "text/plain": [
              "<PIL.Image.Image image mode=RGB size=192x192>"
            ],
            "image/png": "[encoded data removed]"
          },
          "metadata": {}
        },
        {
          "output_type": "display_data",
          "data": {
            "text/plain": [
              "<PIL.Image.Image image mode=RGB size=192x192>"
            ],
            "image/png": "[encoded data removed]"
          },
          "metadata": {}
        },
        {
          "output_type": "display_data",
          "data": {
            "text/plain": [
              "<PIL.Image.Image image mode=RGB size=192x192>"
            ],
            "image/png": "[encoded data removed]"
          },
          "metadata": {}
        },
        {
          "output_type": "display_data",
          "data": {
            "text/plain": [
              "<PIL.Image.Image image mode=RGB size=192x192>"
            ],
            "image/png": "[encoded data removed]"
          },
          "metadata": {}
        },
        {
          "output_type": "stream",
          "name": "stdout",
          "text": [
            "1.0\n"
          ]
        }
      ]
    }
  ]
}